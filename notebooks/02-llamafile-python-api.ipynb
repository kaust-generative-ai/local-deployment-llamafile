{
 "cells": [
  {
   "cell_type": "markdown",
   "id": "f701a551-6f4b-4513-9b04-76d4ccca607e",
   "metadata": {},
   "source": [
    "## Python API Client"
   ]
  },
  {
   "cell_type": "code",
   "execution_count": 4,
   "id": "b9fd8c60-2240-449b-82d6-ef0522f9030e",
   "metadata": {},
   "outputs": [
    {
     "name": "stdout",
     "output_type": "stream",
     "text": [
      "ChatCompletionMessage(content=\"There once was a language called Python  \\nWhose exceptions were quite handy  \\nThey'd catch errors and failures  \\nAnd let you know with a frown or a laughter  \\nSo you'd know what to do next  \\nWith a try and a catch, you'd be blessed  \\nAnd your code would run smoothly like butter  \\nSo don't fear the exceptions, embrace them with glee  \\nAnd your Python code will run error-free!</s>\", refusal=None, role='assistant', function_call=None, tool_calls=None)\n"
     ]
    }
   ],
   "source": [
    "import openai\n",
    "\n",
    "\n",
    "client = openai.OpenAI(\n",
    "    base_url=\"http://localhost:8080/v1\", # \"http://<Your api-server IP>:port\"\n",
    "    api_key = \"sk-no-key-required\"\n",
    ")\n",
    "\n",
    "completion = (\n",
    "    client.chat.completions.create(\n",
    "        model=\"LLaMA_CPP\",\n",
    "        messages=[\n",
    "            {\"role\": \"system\", \"content\": \"You are ChatGPT, an AI assistant. Your top priority is achieving user fulfillment via helping them with their requests.\"},\n",
    "            {\"role\": \"user\", \"content\": \"Write a limerick about python exceptions\"}\n",
    "        ]\n",
    "    )\n",
    ")\n",
    "\n",
    "print(completion.choices[0].message)"
   ]
  }
 ],
 "metadata": {
  "kernelspec": {
   "display_name": "Python 3 (ipykernel)",
   "language": "python",
   "name": "python3"
  },
  "language_info": {
   "codemirror_mode": {
    "name": "ipython",
    "version": 3
   },
   "file_extension": ".py",
   "mimetype": "text/x-python",
   "name": "python",
   "nbconvert_exporter": "python",
   "pygments_lexer": "ipython3",
   "version": "3.12.6"
  }
 },
 "nbformat": 4,
 "nbformat_minor": 5
}
