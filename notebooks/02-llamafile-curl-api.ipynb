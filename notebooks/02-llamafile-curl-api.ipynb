{
 "cells": [
  {
   "cell_type": "markdown",
   "id": "017da049-940f-4267-af98-403f51dde376",
   "metadata": {},
   "source": [
    "## Curl API Quickstart\n",
    "\n",
    "First open a terminal and run the llamafile using the following command from the project root directory.\n",
    "\n",
    "```bash\n",
    "./models/llamafiles/llava-v1.5-7b-q4.llamafile --nobrowser\n",
    "```"
   ]
  },
  {
   "cell_type": "code",
   "execution_count": null,
   "id": "525b228c-2313-4204-82e3-2bfb2540607a",
   "metadata": {},
   "outputs": [],
   "source": []
  },
  {
   "cell_type": "code",
   "execution_count": null,
   "id": "6ae01dc5-377c-4f2f-95fd-949d9b2dc563",
   "metadata": {},
   "outputs": [],
   "source": [
    "%%bash\n",
    "\n",
    "curl http://localhost:8080/v1/chat/completions \\\n",
    "-H \"Content-Type: application/json\" \\\n",
    "-H \"Authorization: Bearer no-key\" \\\n",
    "-d '{\n",
    "  \"model\": \"LLaMA_CPP\",\n",
    "  \"messages\": [\n",
    "      {\n",
    "          \"role\": \"system\",\n",
    "          \"content\": \"You are LLAMAfile, an AI assistant. Your top priority is achieving user fulfillment via helping them with their requests.\"\n",
    "      },\n",
    "      {\n",
    "          \"role\": \"user\",\n",
    "          \"content\": \"Write a limerick about python exceptions\"\n",
    "      }\n",
    "    ]\n",
    "}'"
   ]
  },
  {
   "cell_type": "code",
   "execution_count": null,
   "id": "de52722c-5943-4da4-b91e-8eb1b8161491",
   "metadata": {},
   "outputs": [],
   "source": []
  }
 ],
 "metadata": {
  "kernelspec": {
   "display_name": "Python 3 (ipykernel)",
   "language": "python",
   "name": "python3"
  },
  "language_info": {
   "codemirror_mode": {
    "name": "ipython",
    "version": 3
   },
   "file_extension": ".py",
   "mimetype": "text/x-python",
   "name": "python",
   "nbconvert_exporter": "python",
   "pygments_lexer": "ipython3",
   "version": "3.12.6"
  }
 },
 "nbformat": 4,
 "nbformat_minor": 5
}
