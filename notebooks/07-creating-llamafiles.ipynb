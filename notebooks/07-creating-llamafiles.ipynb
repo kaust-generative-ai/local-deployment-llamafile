{
 "cells": [
  {
   "cell_type": "markdown",
   "id": "05231878-41a4-4cc7-a8c3-dcb323c91628",
   "metadata": {},
   "source": [
    "## Creating llamafiles\n",
    "\n",
    "If you want to be able to just say:\n",
    "\n",
    "```sh\n",
    "./llava.llamafile\n",
    "```\n",
    "\n",
    "...and have it run the web server without having to specify arguments,\n",
    "then you can embed both the weights and a special `.args` inside, which\n",
    "specifies the default arguments. First, let's create a file named\n",
    "`.args` which has this content:\n",
    "\n",
    "```sh\n",
    "-m\n",
    "llava-v1.5-7b-Q8_0.gguf\n",
    "--mmproj\n",
    "llava-v1.5-7b-mmproj-Q8_0.gguf\n",
    "--host\n",
    "0.0.0.0\n",
    "-ngl\n",
    "9999\n",
    "...\n",
    "```\n",
    "\n",
    "As we can see above, there's one argument per line. The `...` argument\n",
    "optionally specifies where any additional CLI arguments passed by the\n",
    "user are to be inserted. Next, we'll add both the weights and the\n",
    "argument file to the executable:\n",
    "\n",
    "```sh\n",
    "cp /usr/local/bin/llamafile llava.llamafile\n",
    "\n",
    "zipalign -j0 \\\n",
    "  llava.llamafile \\\n",
    "  llava-v1.5-7b-Q8_0.gguf \\\n",
    "  llava-v1.5-7b-mmproj-Q8_0.gguf \\\n",
    "  .args\n",
    "\n",
    "./llava.llamafile\n",
    "```\n",
    "\n",
    "Congratulations. You've just made your own LLM executable that's easy to\n",
    "share with your friends."
   ]
  },
  {
   "cell_type": "markdown",
   "id": "db5de606-681a-4243-a8c1-b797f0909d19",
   "metadata": {},
   "source": [
    "## Sharing llamafiles on Hugging Face \n",
    "\n",
    "One good way to share a llamafile with your friends is by posting it on Hugging Face. If you do that, then it's recommended that you mention in your Hugging Face commit message what git revision or released version of llamafile you used when building your llamafile. That way everyone online will be able verify the provenance of its executable content. If you've made changes to the llama.cpp or cosmopolitan source code, then the Apache 2.0 license requires you to explain what changed. One way you can do that is by embedding a notice in your llamafile using `zipalign` that describes the changes, and mention it in your Hugging Face commit."
   ]
  },
  {
   "cell_type": "code",
   "execution_count": null,
   "id": "de52722c-5943-4da4-b91e-8eb1b8161491",
   "metadata": {},
   "outputs": [],
   "source": []
  }
 ],
 "metadata": {
  "kernelspec": {
   "display_name": "Python 3 (ipykernel)",
   "language": "python",
   "name": "python3"
  },
  "language_info": {
   "codemirror_mode": {
    "name": "ipython",
    "version": 3
   },
   "file_extension": ".py",
   "mimetype": "text/x-python",
   "name": "python",
   "nbconvert_exporter": "python",
   "pygments_lexer": "ipython3",
   "version": "3.12.6"
  }
 },
 "nbformat": 4,
 "nbformat_minor": 5
}
